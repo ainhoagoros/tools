{
 "cells": [
  {
   "cell_type": "markdown",
   "metadata": {},
   "source": [
    "<center>\n",
    "    <img src=\"https://cf-courses-data.s3.us.cloud-object-storage.appdomain.cloud/IBMDeveloperSkillsNetwork-DS0105EN-SkillsNetwork/labs/Module2/images/SN_web_lightmode.png\" width=\"300\" alt=\"cognitiveclass.ai logo\">\n",
    "</center>\n"
   ]
  },
  {
   "cell_type": "markdown",
   "metadata": {},
   "source": [
    "#### Add your code below following the instructions given in the course\n"
   ]
  },
  {
   "cell_type": "markdown",
   "metadata": {},
   "source": [
    "# My Jupyter Notebook on IBM Watson Studio"
   ]
  },
  {
   "cell_type": "markdown",
   "metadata": {},
   "source": [
    "__Ainhoa Gorostiaga Muro__ <br> Industrial Data Analyst"
   ]
  },
  {
   "cell_type": "markdown",
   "metadata": {},
   "source": [
    "*I'm interested in data science because I like doing analysis, processing and modelling the data*"
   ]
  },
  {
   "cell_type": "markdown",
   "metadata": {},
   "source": [
    "### This program calculates the real price of a product after applying a tax and a discount"
   ]
  },
  {
   "cell_type": "code",
   "execution_count": 18,
   "metadata": {},
   "outputs": [
    {
     "name": "stdout",
     "output_type": "stream",
     "text": [
      "[24.170699999999997, 30.2715, 24.830999999999996]\n"
     ]
    }
   ],
   "source": [
    "prod_prices =[25.99, 32.55, 26.7]\n",
    "discount = 10\n",
    "tax = 3\n",
    "i = 0\n",
    "r_price=[]\n",
    "\n",
    "\n",
    "for price in prod_prices:\n",
    "    i+=1\n",
    "    last_price = price +(price*tax)/100 - (price*discount)/100\n",
    "    r_price.append(last_price)\n",
    "    \n",
    "print(r_price)\n"
   ]
  },
  {
   "cell_type": "markdown",
   "metadata": {},
   "source": [
    "***\n",
    "\n",
    "1. Product initial prices\n",
    "2. Product real prices\n",
    "2. Product information\n",
    "\n",
    "Product | Type     | Country\n",
    "--------|----------|------------\n",
    "1       |Paint     | Portugal\n",
    "2       |Machinery |Germany\n",
    "3       |Oil       |USA\n"
   ]
  }
 ],
 "metadata": {
  "kernelspec": {
   "display_name": "Python",
   "language": "python",
   "name": "conda-env-python-py"
  },
  "language_info": {
   "codemirror_mode": {
    "name": "ipython",
    "version": 3
   },
   "file_extension": ".py",
   "mimetype": "text/x-python",
   "name": "python",
   "nbconvert_exporter": "python",
   "pygments_lexer": "ipython3",
   "version": "3.7.12"
  }
 },
 "nbformat": 4,
 "nbformat_minor": 4
}
