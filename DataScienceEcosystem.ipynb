{
 "cells": [
  {
   "cell_type": "markdown",
   "id": "519ff2ee-27dc-4078-a78f-eb0f263ced48",
   "metadata": {},
   "source": [
    "# Data Science Tools and Ecosystem"
   ]
  },
  {
   "cell_type": "markdown",
   "id": "f02703f7-27c0-4e29-8899-640f92a51cfc",
   "metadata": {},
   "source": [
    "In this notebook, Data Science Tools and Ecosystem are summarized."
   ]
  },
  {
   "cell_type": "markdown",
   "id": "b9328094-3ca8-4cae-8494-8747607bd02d",
   "metadata": {},
   "source": [
    "Some of the popular languages that Data Scientists use are:\n",
    "1. Python\n",
    "2. R language\n",
    "3. SQL\n",
    "4. JavaScript"
   ]
  },
  {
   "cell_type": "markdown",
   "id": "9700aec7-81f1-49ff-a320-945a3c948d94",
   "metadata": {},
   "source": [
    "Some of the commonly used libraries used by Data Scientists include:\n",
    "1. matplotlib\n",
    "2. numpy\n",
    "3. tensorflow\n",
    "4. SciKit-Learn"
   ]
  },
  {
   "cell_type": "markdown",
   "id": "4b2982f3-d9dc-4942-b4a2-ad99b27732ea",
   "metadata": {},
   "source": [
    "|Data Science Tools|\n",
    "--------------------\n",
    "hadoop\n",
    "MySQL\n",
    "Jupyer Notebooks\n",
    "Apache Spark"
   ]
  },
  {
   "cell_type": "markdown",
   "id": "b177679d-7e66-4301-9c4e-32c66bbaba00",
   "metadata": {},
   "source": [
    "### Below are a few examples of evaluating arithmetic expressions in Python."
   ]
  },
  {
   "cell_type": "code",
   "execution_count": 3,
   "id": "4ace4e1c-1127-4220-9797-f1f3752707c5",
   "metadata": {},
   "outputs": [
    {
     "data": {
      "text/plain": [
       "17"
      ]
     },
     "execution_count": 3,
     "metadata": {},
     "output_type": "execute_result"
    }
   ],
   "source": [
    "#This a simple arithmetic expression to mutiply then add integers\n",
    "(3*4)+5"
   ]
  },
  {
   "cell_type": "code",
   "execution_count": 8,
   "id": "45c57391-cea6-4ed7-9c34-014d5c3202dc",
   "metadata": {},
   "outputs": [
    {
     "data": {
      "text/plain": [
       "3.33"
      ]
     },
     "execution_count": 8,
     "metadata": {},
     "output_type": "execute_result"
    }
   ],
   "source": [
    "#This will convert 200 minutes to hours by diving by 60\n",
    "minutes = 200\n",
    "hours = minutes/60\n",
    "round(hours,2)"
   ]
  },
  {
   "cell_type": "markdown",
   "id": "6303a99c-d3fa-4061-a92b-9efc4000322b",
   "metadata": {},
   "source": [
    "**Objectives:**\n",
    "* List popular languages for Data Science\n",
    "* List commonly used libraries in data Science\n",
    "* List some open source Data Science Tools\n",
    "* Evaluating arithmetic expressions in Python"
   ]
  },
  {
   "cell_type": "markdown",
   "id": "91a9956e-0cdc-4f65-a51a-94b36000c22d",
   "metadata": {},
   "source": [
    "## Author\n",
    "Ainhoa Gorostiaga"
   ]
  }
 ],
 "metadata": {
  "kernelspec": {
   "display_name": "Python",
   "language": "python",
   "name": "conda-env-python-py"
  },
  "language_info": {
   "codemirror_mode": {
    "name": "ipython",
    "version": 3
   },
   "file_extension": ".py",
   "mimetype": "text/x-python",
   "name": "python",
   "nbconvert_exporter": "python",
   "pygments_lexer": "ipython3",
   "version": "3.7.12"
  }
 },
 "nbformat": 4,
 "nbformat_minor": 5
}
